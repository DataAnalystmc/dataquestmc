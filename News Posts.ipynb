{
 "cells": [
  {
   "cell_type": "markdown",
   "metadata": {},
   "source": [
    "# Context\n",
    "Data is extracted and accessed from a news website to determine the optimal timing of news posts. Basic statistical functions are ran here for better understanding of the timing for press releases."
   ]
  },
  {
   "cell_type": "code",
   "execution_count": 4,
   "metadata": {},
   "outputs": [
    {
     "data": {
      "text/plain": [
       "[['id', 'title', 'url', 'num_points', 'num_comments', 'author', 'created_at'],\n",
       " ['12224879',\n",
       "  'Interactive Dynamic Video',\n",
       "  'http://www.interactivedynamicvideo.com/',\n",
       "  '386',\n",
       "  '52',\n",
       "  'ne0phyte',\n",
       "  '8/4/2016 11:52'],\n",
       " ['10975351',\n",
       "  'How to Use Open Source and Shut the Fuck Up at the Same Time',\n",
       "  'http://hueniverse.com/2016/01/26/how-to-use-open-source-and-shut-the-fuck-up-at-the-same-time/',\n",
       "  '39',\n",
       "  '10',\n",
       "  'josep2',\n",
       "  '1/26/2016 19:30'],\n",
       " ['11964716',\n",
       "  \"Florida DJs May Face Felony for April Fools' Water Joke\",\n",
       "  'http://www.thewire.com/entertainment/2013/04/florida-djs-april-fools-water-joke/63798/',\n",
       "  '2',\n",
       "  '1',\n",
       "  'vezycash',\n",
       "  '6/23/2016 22:20'],\n",
       " ['11919867',\n",
       "  'Technology ventures: From Idea to Enterprise',\n",
       "  'https://www.amazon.com/Technology-Ventures-Enterprise-Thomas-Byers/dp/0073523429',\n",
       "  '3',\n",
       "  '1',\n",
       "  'hswarna',\n",
       "  '6/17/2016 0:01']]"
      ]
     },
     "execution_count": 4,
     "metadata": {},
     "output_type": "execute_result"
    }
   ],
   "source": [
    "import csv\n",
    "\n",
    "# Read the hacker_news.csv file as a list of lists\n",
    "with open('hacker_news.csv', 'r') as file:\n",
    "    reader = csv.reader(file)\n",
    "    hn = list(reader)\n",
    "\n",
    "# Display the first five rows of hn\n",
    "hn[:5]\n"
   ]
  },
  {
   "cell_type": "code",
   "execution_count": 5,
   "metadata": {},
   "outputs": [
    {
     "data": {
      "text/plain": [
       "(['id', 'title', 'url', 'num_points', 'num_comments', 'author', 'created_at'],\n",
       " [['12224879',\n",
       "   'Interactive Dynamic Video',\n",
       "   'http://www.interactivedynamicvideo.com/',\n",
       "   '386',\n",
       "   '52',\n",
       "   'ne0phyte',\n",
       "   '8/4/2016 11:52'],\n",
       "  ['10975351',\n",
       "   'How to Use Open Source and Shut the Fuck Up at the Same Time',\n",
       "   'http://hueniverse.com/2016/01/26/how-to-use-open-source-and-shut-the-fuck-up-at-the-same-time/',\n",
       "   '39',\n",
       "   '10',\n",
       "   'josep2',\n",
       "   '1/26/2016 19:30'],\n",
       "  ['11964716',\n",
       "   \"Florida DJs May Face Felony for April Fools' Water Joke\",\n",
       "   'http://www.thewire.com/entertainment/2013/04/florida-djs-april-fools-water-joke/63798/',\n",
       "   '2',\n",
       "   '1',\n",
       "   'vezycash',\n",
       "   '6/23/2016 22:20'],\n",
       "  ['11919867',\n",
       "   'Technology ventures: From Idea to Enterprise',\n",
       "   'https://www.amazon.com/Technology-Ventures-Enterprise-Thomas-Byers/dp/0073523429',\n",
       "   '3',\n",
       "   '1',\n",
       "   'hswarna',\n",
       "   '6/17/2016 0:01'],\n",
       "  ['10301696',\n",
       "   'Note by Note: The Making of Steinway L1037 (2007)',\n",
       "   'http://www.nytimes.com/2007/11/07/movies/07stein.html?_r=0',\n",
       "   '8',\n",
       "   '2',\n",
       "   'walterbell',\n",
       "   '9/30/2015 4:12']])"
      ]
     },
     "execution_count": 5,
     "metadata": {},
     "output_type": "execute_result"
    }
   ],
   "source": [
    "# Extract the first row and assign it to headers\n",
    "headers = hn[0]\n",
    "\n",
    "# Remove the first row from hn\n",
    "hn = hn[1:]\n",
    "\n",
    "# Display headers and the first five rows of hn to verify\n",
    "headers, hn[:5]\n"
   ]
  },
  {
   "cell_type": "code",
   "execution_count": 6,
   "metadata": {},
   "outputs": [
    {
     "data": {
      "text/plain": [
       "(1744, 1162, 17194)"
      ]
     },
     "execution_count": 6,
     "metadata": {},
     "output_type": "execute_result"
    }
   ],
   "source": [
    "# Create three empty lists for different types of posts\n",
    "ask_posts = []\n",
    "show_posts = []\n",
    "other_posts = []\n",
    "\n",
    "# Loop through each row in hn\n",
    "for row in hn:\n",
    "    title = row[1]  # Title is the second column\n",
    "    # Check if the title starts with 'ask hn' or 'show hn' (case-insensitive)\n",
    "    if title.lower().startswith('ask hn'):\n",
    "        ask_posts.append(row)\n",
    "    elif title.lower().startswith('show hn'):\n",
    "        show_posts.append(row)\n",
    "    else:\n",
    "        other_posts.append(row)\n",
    "\n",
    "# Check the number of posts in each list\n",
    "len_ask_posts = len(ask_posts)\n",
    "len_show_posts = len(show_posts)\n",
    "len_other_posts = len(other_posts)\n",
    "\n",
    "len_ask_posts, len_show_posts, len_other_posts\n"
   ]
  },
  {
   "cell_type": "code",
   "execution_count": 7,
   "metadata": {},
   "outputs": [
    {
     "data": {
      "text/plain": [
       "(14.038417431192661, 10.31669535283993)"
      ]
     },
     "execution_count": 7,
     "metadata": {},
     "output_type": "execute_result"
    }
   ],
   "source": [
    "# Initialize variables for total comments in ask and show posts\n",
    "total_ask_comments = 0\n",
    "total_show_comments = 0\n",
    "\n",
    "# Calculate total comments in ask posts\n",
    "for post in ask_posts:\n",
    "    total_ask_comments += int(post[4])  # num_comments is at index 4\n",
    "\n",
    "# Calculate average comments on ask posts\n",
    "avg_ask_comments = total_ask_comments / len_ask_posts\n",
    "\n",
    "# Calculate total comments in show posts\n",
    "for post in show_posts:\n",
    "    total_show_comments += int(post[4])  # num_comments is at index 4\n",
    "\n",
    "# Calculate average comments on show posts\n",
    "avg_show_comments = total_show_comments / len_show_posts\n",
    "\n",
    "avg_ask_comments, avg_show_comments\n"
   ]
  },
  {
   "cell_type": "code",
   "execution_count": 8,
   "metadata": {},
   "outputs": [
    {
     "data": {
      "text/plain": [
       "({'09': 45,\n",
       "  '13': 85,\n",
       "  '10': 59,\n",
       "  '14': 107,\n",
       "  '16': 108,\n",
       "  '23': 68,\n",
       "  '12': 73,\n",
       "  '17': 100,\n",
       "  '15': 116,\n",
       "  '21': 109,\n",
       "  '20': 80,\n",
       "  '02': 58,\n",
       "  '18': 109,\n",
       "  '03': 54,\n",
       "  '05': 46,\n",
       "  '19': 110,\n",
       "  '01': 60,\n",
       "  '22': 71,\n",
       "  '08': 48,\n",
       "  '04': 47,\n",
       "  '00': 55,\n",
       "  '06': 44,\n",
       "  '07': 34,\n",
       "  '11': 58},\n",
       " {'09': 251,\n",
       "  '13': 1253,\n",
       "  '10': 793,\n",
       "  '14': 1416,\n",
       "  '16': 1814,\n",
       "  '23': 543,\n",
       "  '12': 687,\n",
       "  '17': 1146,\n",
       "  '15': 4477,\n",
       "  '21': 1745,\n",
       "  '20': 1722,\n",
       "  '02': 1381,\n",
       "  '18': 1439,\n",
       "  '03': 421,\n",
       "  '05': 464,\n",
       "  '19': 1188,\n",
       "  '01': 683,\n",
       "  '22': 479,\n",
       "  '08': 492,\n",
       "  '04': 337,\n",
       "  '00': 447,\n",
       "  '06': 397,\n",
       "  '07': 267,\n",
       "  '11': 641})"
      ]
     },
     "execution_count": 8,
     "metadata": {},
     "output_type": "execute_result"
    }
   ],
   "source": [
    "import datetime as dt\n",
    "\n",
    "# Create an empty list for storing created_at and number of comments\n",
    "result_list = []\n",
    "\n",
    "# Populate result_list with data from ask_posts\n",
    "for post in ask_posts:\n",
    "    created_at = post[6]  # created_at is the seventh column\n",
    "    num_comments = int(post[4])  # num_comments is the fifth column\n",
    "    result_list.append([created_at, num_comments])\n",
    "\n",
    "# Create empty dictionaries for storing post counts and comment counts by hour\n",
    "counts_by_hour = {}\n",
    "comments_by_hour = {}\n",
    "\n",
    "# Populate the dictionaries\n",
    "for result in result_list:\n",
    "    created_at, num_comments = result\n",
    "    dt_object = dt.datetime.strptime(created_at, \"%m/%d/%Y %H:%M\")\n",
    "    hour = dt_object.strftime(\"%H\")\n",
    "    \n",
    "    if hour not in counts_by_hour:\n",
    "        counts_by_hour[hour] = 1\n",
    "        comments_by_hour[hour] = num_comments\n",
    "    else:\n",
    "        counts_by_hour[hour] += 1\n",
    "        comments_by_hour[hour] += num_comments\n",
    "\n",
    "counts_by_hour, comments_by_hour\n"
   ]
  },
  {
   "cell_type": "code",
   "execution_count": 9,
   "metadata": {},
   "outputs": [
    {
     "data": {
      "text/plain": [
       "[['00', 8.127272727272727],\n",
       " ['01', 11.383333333333333],\n",
       " ['02', 23.810344827586206],\n",
       " ['03', 7.796296296296297],\n",
       " ['04', 7.170212765957447],\n",
       " ['05', 10.08695652173913],\n",
       " ['06', 9.022727272727273],\n",
       " ['07', 7.852941176470588],\n",
       " ['08', 10.25],\n",
       " ['09', 5.5777777777777775],\n",
       " ['10', 13.440677966101696],\n",
       " ['11', 11.051724137931034],\n",
       " ['12', 9.41095890410959],\n",
       " ['13', 14.741176470588234],\n",
       " ['14', 13.233644859813085],\n",
       " ['15', 38.5948275862069],\n",
       " ['16', 16.796296296296298],\n",
       " ['17', 11.46],\n",
       " ['18', 13.20183486238532],\n",
       " ['19', 10.8],\n",
       " ['20', 21.525],\n",
       " ['21', 16.009174311926607],\n",
       " ['22', 6.746478873239437],\n",
       " ['23', 7.985294117647059]]"
      ]
     },
     "execution_count": 9,
     "metadata": {},
     "output_type": "execute_result"
    }
   ],
   "source": [
    "# Calculate the average number of comments per post for posts created during each hour\n",
    "avg_by_hour = []\n",
    "\n",
    "for hour in counts_by_hour:\n",
    "    avg_comments = comments_by_hour[hour] / counts_by_hour[hour]\n",
    "    avg_by_hour.append([hour, avg_comments])\n",
    "\n",
    "avg_by_hour.sort()  # Sorting by hour for better readability\n",
    "avg_by_hour\n"
   ]
  },
  {
   "cell_type": "code",
   "execution_count": 10,
   "metadata": {},
   "outputs": [
    {
     "name": "stdout",
     "output_type": "stream",
     "text": [
      "Top 5 Hours for Ask Posts Comments\n",
      "15:00: 38.59 average comments per post\n",
      "02:00: 23.81 average comments per post\n",
      "20:00: 21.52 average comments per post\n",
      "16:00: 16.80 average comments per post\n",
      "21:00: 16.01 average comments per post\n"
     ]
    }
   ],
   "source": [
    "# Swap the columns in avg_by_hour\n",
    "swap_avg_by_hour = [[avg, hour] for [hour, avg] in avg_by_hour]\n",
    "\n",
    "# Sort swap_avg_by_hour in descending order by average number of comments\n",
    "sorted_swap = sorted(swap_avg_by_hour, reverse=True)\n",
    "\n",
    "# Display the top 5 hours for Ask Posts comments\n",
    "print(\"Top 5 Hours for Ask Posts Comments\")\n",
    "\n",
    "for avg, hour in sorted_swap[:5]:\n",
    "    dt_object = dt.datetime.strptime(hour, \"%H\")\n",
    "    formatted_hour = dt_object.strftime(\"%H:%M\")\n",
    "    print(\"{}: {:.2f} average comments per post\".format(formatted_hour, avg))\n"
   ]
  },
  {
   "cell_type": "markdown",
   "metadata": {},
   "source": [
    "# Findings\n",
    "In this analysis of 'Ask Posts' on Hacker News, the data shows that the timing of a post significantly impacts the number of comments it receives. The standout time is 15:00 UTC, with an average of 38.59 comments per post. Other notable times are 02:00 and 20:00 UTC, averaging around 23.81 and 21.52 comments respectively. For those based in the Central Time Zone, like in Chicago, these peak times translate to 10:00 AM, 9:00 PM, and 3:00 PM local time"
   ]
  },
  {
   "cell_type": "code",
   "execution_count": null,
   "metadata": {},
   "outputs": [],
   "source": []
  }
 ],
 "metadata": {
  "kernelspec": {
   "display_name": "Python 3 (ipykernel)",
   "language": "python",
   "name": "python3"
  },
  "language_info": {
   "codemirror_mode": {
    "name": "ipython",
    "version": 3
   },
   "file_extension": ".py",
   "mimetype": "text/x-python",
   "name": "python",
   "nbconvert_exporter": "python",
   "pygments_lexer": "ipython3",
   "version": "3.11.2"
  }
 },
 "nbformat": 4,
 "nbformat_minor": 4
}
