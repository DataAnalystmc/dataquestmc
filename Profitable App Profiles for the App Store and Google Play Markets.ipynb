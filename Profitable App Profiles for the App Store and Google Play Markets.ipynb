{
 "cells": [
  {
   "cell_type": "markdown",
   "metadata": {},
   "source": [
    "This code performs several tasks to manipulate and explore datasets from the Apple App Store and Google Play Store:\r\n",
    "\r\n",
    "1. **Import CSV Module**: `import csv` is used to import Python's built-in `csv` module so that we can read and write CSV files.\r\n",
    "\r\n",
    "2. **Function to Explore Data**: The `explore_data` function slices a dataset and prints a subset of rows to allow quick exploration.\r\n",
    "\r\n",
    "3. **Loading Apple Store Dataset**: `apple_store_file` specifies the file name, and `csv.reader` reads it. The content is stored in a list called `apple_data`.\r\n",
    "\r\n",
    "4. **Loading Google Play Store Dataset**: Similar to Apple Store, the Google Play Store dataset is loaded into `google_data`.\r\n",
    "\r\n",
    "5. **Exploring First Few Rows**: The function `explore_data` is called to print the first three rows (excluding headers) from each dataset for quick inspection.\r\n",
    "\r\n",
    "6. **Getting Number of Rows and Columns**: The code calculates the dimensions of each dataset, which are stored in `num_rows_apple`, `num_columns_apple`, `num_rows_google`, and `num_columns_google`.\r\n",
    "\r\n",
    "7. **Function to Find Incorrect Rows**: `find_incorrect_rows` checks for rows that don't have the expected length, which is useful for identifying issues in the data.\r\n",
    "\r\n",
    "8. **Checking and Removing Incorrect Rows**: The code looks for incorrect rows in both datasets and removes any that it finds in the Google dataset.\r\n",
    "\r\n",
    "9. **Verifying Data Cleaning**: After cleaning, the code verifies that the incorrect rows have been removed from the Google dataset.\r\n",
    "\r\n",
    "10. **Re-Load for Comparison**: The original Google Play dataset is reloaded for a before-and-after comparison of a specific incorrect row.\r\n",
    "\r\n",
    "Each section of the code focuses on one of these tasks, making it easier to understand and debug.\r\n"
   ]
  },
  {
   "cell_type": "code",
   "execution_count": 2,
   "metadata": {},
   "outputs": [
    {
     "name": "stdout",
     "output_type": "stream",
     "text": [
      "Apple Store dataset:\n",
      "['284882215', 'Facebook', '389879808', 'USD', '0.0', '2974676', '212', '3.5', '3.5', '95.0', '4+', 'Social Networking', '37', '1', '29', '1']\n",
      "\n",
      "\n",
      "['389801252', 'Instagram', '113954816', 'USD', '0.0', '2161558', '1289', '4.5', '4.0', '10.23', '12+', 'Photo & Video', '37', '0', '29', '1']\n",
      "\n",
      "\n",
      "['529479190', 'Clash of Clans', '116476928', 'USD', '0.0', '2130805', '579', '4.5', '4.5', '9.24.12', '9+', 'Games', '38', '5', '18', '1']\n",
      "\n",
      "\n",
      "Google Play Store dataset:\n",
      "['Photo Editor & Candy Camera & Grid & ScrapBook', 'ART_AND_DESIGN', '4.1', '159', '19M', '10,000+', 'Free', '0', 'Everyone', 'Art & Design', 'January 7, 2018', '1.0.0', '4.0.3 and up']\n",
      "\n",
      "\n",
      "['Coloring book moana', 'ART_AND_DESIGN', '3.9', '967', '14M', '500,000+', 'Free', '0', 'Everyone', 'Art & Design;Pretend Play', 'January 15, 2018', '2.0.0', '4.0.3 and up']\n",
      "\n",
      "\n",
      "['U Launcher Lite – FREE Live Cool Themes, Hide Apps', 'ART_AND_DESIGN', '4.7', '87510', '8.7M', '5,000,000+', 'Free', '0', 'Everyone', 'Art & Design', 'August 1, 2018', '1.2.4', '4.0.3 and up']\n",
      "\n",
      "\n"
     ]
    },
    {
     "data": {
      "text/plain": [
       "((7197, 16),\n",
       " (10841, 13),\n",
       " ['id',\n",
       "  'track_name',\n",
       "  'size_bytes',\n",
       "  'currency',\n",
       "  'price',\n",
       "  'rating_count_tot',\n",
       "  'rating_count_ver',\n",
       "  'user_rating',\n",
       "  'user_rating_ver',\n",
       "  'ver',\n",
       "  'cont_rating',\n",
       "  'prime_genre',\n",
       "  'sup_devices.num',\n",
       "  'ipadSc_urls.num',\n",
       "  'lang.num',\n",
       "  'vpp_lic'],\n",
       " ['App',\n",
       "  'Category',\n",
       "  'Rating',\n",
       "  'Reviews',\n",
       "  'Size',\n",
       "  'Installs',\n",
       "  'Type',\n",
       "  'Price',\n",
       "  'Content Rating',\n",
       "  'Genres',\n",
       "  'Last Updated',\n",
       "  'Current Ver',\n",
       "  'Android Ver'])"
      ]
     },
     "execution_count": 2,
     "metadata": {},
     "output_type": "execute_result"
    }
   ],
   "source": [
    "import csv\n",
    "\n",
    "# Function to explore data\n",
    "def explore_data(dataset, start=0, end=5):\n",
    "    dataset_slice = dataset[start:end]\n",
    "    for row in dataset_slice:\n",
    "        print(row)\n",
    "        print('\\n')  # adds a new (empty) line after each row\n",
    "\n",
    "# Load Apple Store dataset\n",
    "apple_store_file = 'AppleStore.csv'\n",
    "with open(apple_store_file, encoding='utf8') as f:\n",
    "    reader = csv.reader(f)\n",
    "    apple_data = list(reader)\n",
    "\n",
    "# Load Google Play Store dataset\n",
    "google_play_file = 'googleplaystore.csv'\n",
    "with open(google_play_file, encoding='utf8') as f:\n",
    "    reader = csv.reader(f)\n",
    "    google_data = list(reader)\n",
    "\n",
    "# Explore first few rows of Apple Store dataset\n",
    "print(\"Apple Store dataset:\")\n",
    "explore_data(apple_data[1:], 0, 3)  # Skipping header row\n",
    "\n",
    "# Explore first few rows of Google Play Store dataset\n",
    "print(\"Google Play Store dataset:\")\n",
    "explore_data(google_data[1:], 0, 3)  # Skipping header row\n",
    "\n",
    "# Number of rows and columns in each dataset\n",
    "num_rows_apple = len(apple_data) - 1  # Exclude header row\n",
    "num_columns_apple = len(apple_data[0])\n",
    "num_rows_google = len(google_data) - 1  # Exclude header row\n",
    "num_columns_google = len(google_data[0])\n",
    "\n",
    "(num_rows_apple, num_columns_apple), (num_rows_google, num_columns_google), apple_data[0], google_data[0]\n"
   ]
  },
  {
   "cell_type": "code",
   "execution_count": 6,
   "metadata": {},
   "outputs": [
    {
     "name": "stdout",
     "output_type": "stream",
     "text": [
      "Incorrect rows in Apple dataset: []\n",
      "Incorrect rows in Google dataset after removal: []\n"
     ]
    }
   ],
   "source": [
    "# Function to find rows with incorrect length\n",
    "def find_incorrect_rows(dataset, expected_length):\n",
    "    incorrect_rows = []\n",
    "    for i, row in enumerate(dataset):\n",
    "        if len(row) != expected_length:\n",
    "            incorrect_rows.append((i, row))\n",
    "    return incorrect_rows\n",
    "\n",
    "# ... (Your existing code for loading the datasets and exploring them)\n",
    "\n",
    "# Check for incorrect rows\n",
    "expected_length_apple = len(apple_data[0])\n",
    "incorrect_rows_apple = find_incorrect_rows(apple_data[1:], expected_length_apple)  # Exclude header\n",
    "\n",
    "expected_length_google = len(google_data[0])\n",
    "incorrect_rows_google = find_incorrect_rows(google_data[1:], expected_length_google)  # Exclude header\n",
    "\n",
    "# Remove the incorrect row from Google Play dataset\n",
    "if incorrect_rows_google:\n",
    "    del google_data[incorrect_rows_google[0][0] + 1]  # +1 to account for the header row\n",
    "\n",
    "# Verify if the row has been removed\n",
    "incorrect_rows_google_after = find_incorrect_rows(google_data[1:], expected_length_google)\n",
    "\n",
    "# Print results\n",
    "print(\"Incorrect rows in Apple dataset:\", incorrect_rows_apple)\n",
    "print(\"Incorrect rows in Google dataset after removal:\", incorrect_rows_google_after)\n"
   ]
  },
  {
   "cell_type": "code",
   "execution_count": 7,
   "metadata": {},
   "outputs": [
    {
     "data": {
      "text/plain": [
       "(['Life Made WI-Fi Touchscreen Photo Frame',\n",
       "  '1.9',\n",
       "  '19',\n",
       "  '3.0M',\n",
       "  '1,000+',\n",
       "  'Free',\n",
       "  '0',\n",
       "  'Everyone',\n",
       "  '',\n",
       "  'February 11, 2018',\n",
       "  '1.0.19',\n",
       "  '4.0 and up'],\n",
       " ['Xposed Wi-Fi-Pwd',\n",
       "  'PERSONALIZATION',\n",
       "  '3.5',\n",
       "  '1042',\n",
       "  '404k',\n",
       "  '100,000+',\n",
       "  'Free',\n",
       "  '0',\n",
       "  'Everyone',\n",
       "  'Personalization',\n",
       "  'August 5, 2014',\n",
       "  '3.0.0',\n",
       "  '4.0.3 and up'])"
      ]
     },
     "execution_count": 7,
     "metadata": {},
     "output_type": "execute_result"
    }
   ],
   "source": [
    "# Re-load the Google Play dataset for comparison\n",
    "with open(google_play_file, encoding='utf8') as f:\n",
    "    reader = csv.reader(f)\n",
    "    google_data_original = list(reader)\n",
    "\n",
    "# Row at index 10472 in the original dataset before removal\n",
    "incorrect_row_before = google_data_original[10472 + 1]  # +1 to account for the header row\n",
    "\n",
    "# Row at index 10472 in the dataset after removal\n",
    "incorrect_row_after = google_data[10472]  # We've already removed the header in this list\n",
    "\n",
    "incorrect_row_before, incorrect_row_after\n"
   ]
  },
  {
   "cell_type": "code",
   "execution_count": 9,
   "metadata": {},
   "outputs": [
    {
     "name": "stdout",
     "output_type": "stream",
     "text": [
      "Examples of duplicate apps: ['Quick PDF Scanner + OCR FREE', 'Box', 'Google My Business', 'ZOOM Cloud Meetings', 'join.me - Simple Meetings']\n",
      "Total number of duplicate apps: 1180\n"
     ]
    }
   ],
   "source": [
    "# Full code to identify and count duplicate entries in the Google Play dataset\n",
    "\n",
    "# Initialize empty lists to hold unique and duplicate app names\n",
    "unique_apps = []\n",
    "duplicate_apps = []\n",
    "\n",
    "# Loop through the Google Play dataset to identify duplicates\n",
    "for row in google_data[1:]:  # Skip the header row\n",
    "    app_name = row[0]\n",
    "    if app_name in unique_apps:\n",
    "        duplicate_apps.append(app_name)\n",
    "    else:\n",
    "        unique_apps.append(app_name)\n",
    "\n",
    "# Print some duplicate app names and count the total number of duplicates\n",
    "duplicate_examples = duplicate_apps[:5]\n",
    "duplicate_count = len(duplicate_apps)\n",
    "\n",
    "# Print the results\n",
    "print(f\"Examples of duplicate apps: {duplicate_examples}\")\n",
    "print(f\"Total number of duplicate apps: {duplicate_count}\")\n",
    "\n"
   ]
  },
  {
   "cell_type": "code",
   "execution_count": 10,
   "metadata": {},
   "outputs": [
    {
     "data": {
      "text/plain": [
       "(9658, 9658)"
      ]
     },
     "execution_count": 10,
     "metadata": {},
     "output_type": "execute_result"
    }
   ],
   "source": [
    "# Step 1: Create a dictionary where each key is a unique app name and the corresponding value is the highest number of reviews of that app\n",
    "\n",
    "# Initialize an empty dictionary named reviews_max\n",
    "reviews_max = {}\n",
    "\n",
    "# Loop through the Google Play data set to populate reviews_max\n",
    "for row in google_data[1:]:  # Skip the header row\n",
    "    name = row[0]\n",
    "    n_reviews = float(row[3])  # The number of reviews is in the 4th column (index 3)\n",
    "    \n",
    "    if name in reviews_max and reviews_max[name] < n_reviews:\n",
    "        reviews_max[name] = n_reviews\n",
    "    elif name not in reviews_max:\n",
    "        reviews_max[name] = n_reviews\n",
    "\n",
    "# Measure the length of the dictionary\n",
    "len_reviews_max = len(reviews_max)\n",
    "\n",
    "# Step 2: Use the reviews_max dictionary to remove duplicate rows\n",
    "\n",
    "# Initialize two empty lists\n",
    "android_clean = []  # To store the new cleaned data set\n",
    "already_added = []  # To store app names that have already been added\n",
    "\n",
    "# Loop through the Google Play dataset to populate android_clean and already_added\n",
    "for row in google_data[1:]:  # Skip the header row\n",
    "    name = row[0]\n",
    "    n_reviews = float(row[3])\n",
    "    \n",
    "    if n_reviews == reviews_max[name] and name not in already_added:\n",
    "        android_clean.append(row)\n",
    "        already_added.append(name)\n",
    "\n",
    "# Measure the length of the cleaned dataset\n",
    "len_android_clean = len(android_clean)\n",
    "\n",
    "len_reviews_max, len_android_clean\n"
   ]
  },
  {
   "cell_type": "code",
   "execution_count": 11,
   "metadata": {},
   "outputs": [
    {
     "data": {
      "text/plain": [
       "{'Instagram': True,\n",
       " '爱奇艺PPS -《欢乐颂2》电视剧热播': False,\n",
       " 'Docs To Go™ Free Office Suite': False,\n",
       " 'Instachat 😜': False}"
      ]
     },
     "execution_count": 11,
     "metadata": {},
     "output_type": "execute_result"
    }
   ],
   "source": [
    "# Function to check if a string contains only common English characters\n",
    "def is_english(string):\n",
    "    for character in string:\n",
    "        if ord(character) > 127:\n",
    "            return False\n",
    "    return True\n",
    "\n",
    "# Test the function with example app names\n",
    "test_names = ['Instagram', '爱奇艺PPS -《欢乐颂2》电视剧热播', 'Docs To Go™ Free Office Suite', 'Instachat 😜']\n",
    "test_results = {name: is_english(name) for name in test_names}\n",
    "\n",
    "test_results\n"
   ]
  },
  {
   "cell_type": "code",
   "execution_count": 12,
   "metadata": {},
   "outputs": [
    {
     "data": {
      "text/plain": [
       "({'Docs To Go™ Free Office Suite': True,\n",
       "  'Instachat 😜': True,\n",
       "  '爱奇艺PPS -《欢乐颂2》电视剧热播': False},\n",
       " 9613,\n",
       " 6183)"
      ]
     },
     "execution_count": 12,
     "metadata": {},
     "output_type": "execute_result"
    }
   ],
   "source": [
    "# Modified function to allow up to 3 non-ASCII characters\n",
    "def is_english(string):\n",
    "    non_ascii_count = 0\n",
    "    for character in string:\n",
    "        if ord(character) > 127:\n",
    "            non_ascii_count += 1\n",
    "        if non_ascii_count > 3:\n",
    "            return False\n",
    "    return True\n",
    "\n",
    "# Test the modified function with example app names\n",
    "test_names_modified = ['Docs To Go™ Free Office Suite', 'Instachat 😜', '爱奇艺PPS -《欢乐颂2》电视剧热播']\n",
    "test_results_modified = {name: is_english(name) for name in test_names_modified}\n",
    "\n",
    "# Filter out non-English apps from both datasets\n",
    "english_apps_google = [app for app in android_clean if is_english(app[0])]\n",
    "english_apps_apple = [app for app in apple_data[1:] if is_english(app[1])]  # App name is in the 2nd column for Apple dataset\n",
    "\n",
    "# Check the number of rows remaining for each dataset\n",
    "len_english_apps_google = len(english_apps_google)\n",
    "len_english_apps_apple = len(english_apps_apple)\n",
    "\n",
    "test_results_modified, len_english_apps_google, len_english_apps_apple\n"
   ]
  },
  {
   "cell_type": "code",
   "execution_count": 13,
   "metadata": {},
   "outputs": [
    {
     "data": {
      "text/plain": [
       "(8863, 3222)"
      ]
     },
     "execution_count": 13,
     "metadata": {},
     "output_type": "execute_result"
    }
   ],
   "source": [
    "# Function to convert price string to float\n",
    "def price_to_float(price_str):\n",
    "    return float(price_str.replace(\"$\", \"\"))\n",
    "\n",
    "# Initialize lists to store free apps\n",
    "free_apps_google = []\n",
    "free_apps_apple = []\n",
    "\n",
    "# Loop through Google Play dataset to isolate free apps\n",
    "for app in english_apps_google:\n",
    "    price = app[7]  # Price is in the 8th column for Google dataset\n",
    "    if price == '0':\n",
    "        free_apps_google.append(app)\n",
    "\n",
    "# Loop through Apple App Store dataset to isolate free apps\n",
    "for app in english_apps_apple:\n",
    "    price = app[4]  # Price is in the 5th column for Apple dataset\n",
    "    if price_to_float(price) == 0.0:\n",
    "        free_apps_apple.append(app)\n",
    "\n",
    "# Check the number of free apps remaining in each dataset\n",
    "len_free_apps_google = len(free_apps_google)\n",
    "len_free_apps_apple = len(free_apps_apple)\n",
    "\n",
    "len_free_apps_google, len_free_apps_apple\n"
   ]
  },
  {
   "cell_type": "code",
   "execution_count": 16,
   "metadata": {},
   "outputs": [
    {
     "data": {
      "text/plain": [
       "{'Top 5 Categories': {'Google Play Store (By Category)': [('FAMILY',\n",
       "    18.910075595170937),\n",
       "   ('GAME', 9.725826469592688),\n",
       "   ('TOOLS', 8.462146000225657),\n",
       "   ('BUSINESS', 4.592124562789123),\n",
       "   ('LIFESTYLE', 3.9038700214374367)],\n",
       "  'Google Play Store (By Genres)': [('Tools', 8.450863138892023),\n",
       "   ('Entertainment', 6.070179397495204),\n",
       "   ('Education', 5.348076272142616),\n",
       "   ('Business', 4.592124562789123),\n",
       "   ('Lifestyle', 3.8925871601038025)],\n",
       "  'Apple App Store': [('Games', 58.16263190564867),\n",
       "   ('Entertainment', 7.883302296710118),\n",
       "   ('Photo & Video', 4.9658597144630665),\n",
       "   ('Education', 3.662321539416512),\n",
       "   ('Social Networking', 3.2898820608317814)]}}"
      ]
     },
     "execution_count": 16,
     "metadata": {},
     "output_type": "execute_result"
    }
   ],
   "source": [
    "# Combine the frequency table generation and organization into a single block of code\n",
    "\n",
    "# Function to generate a frequency table for a given column index in a dataset\n",
    "def freq_table(dataset, index):\n",
    "    table = Counter()\n",
    "    total = 0\n",
    "    \n",
    "    for row in dataset:\n",
    "        total += 1\n",
    "        value = row[index]\n",
    "        table[value] += 1\n",
    "    \n",
    "    # Convert the frequency table to percentages\n",
    "    table_percentages = {key: (value / total) * 100 for key, value in table.items()}\n",
    "    \n",
    "    return sorted(table_percentages.items(), key=lambda x: x[1], reverse=True)[:5]\n",
    "\n",
    "# Generate and organize the top 5 categories/genres from both datasets into a single dictionary\n",
    "organized_results_one_block = {\n",
    "    \"Top 5 Categories\": {\n",
    "        \"Google Play Store (By Category)\": freq_table(free_apps_google, 1),\n",
    "        \"Google Play Store (By Genres)\": freq_table(free_apps_google, 9),\n",
    "        \"Apple App Store\": freq_table(free_apps_apple, 11)\n",
    "    }\n",
    "}\n",
    "\n",
    "organized_results_one_block\n",
    "\n",
    "\n"
   ]
  },
  {
   "cell_type": "code",
   "execution_count": 17,
   "metadata": {},
   "outputs": [
    {
     "name": "stdout",
     "output_type": "stream",
     "text": [
      "Frequency Table for Apple App Store (prime_genre):\n",
      "Entertainment : 7.88%\n",
      "Games : 58.16%\n",
      "Photo & Video : 4.97%\n",
      "Education : 3.66%\n",
      "Social Networking : 3.29%\n",
      "\n",
      "Frequency Table for Google Play Store (Genres):\n",
      "Tools : 8.45%\n",
      "Entertainment : 6.07%\n",
      "Education : 5.35%\n",
      "Business : 4.59%\n",
      "Lifestyle : 3.89%\n",
      "\n",
      "Frequency Table for Google Play Store (Category):\n",
      "GAME : 9.73%\n",
      "TOOLS : 8.46%\n",
      "BUSINESS : 4.59%\n",
      "LIFESTYLE : 3.9%\n",
      "FAMILY : 18.91%\n"
     ]
    }
   ],
   "source": [
    "# Function to display a frequency table in descending order\n",
    "def display_table(dataset, index):\n",
    "    table = freq_table(dataset, index)\n",
    "    table_display = [(str(round(value, 2)) + '%', key) for key, value in table]\n",
    "    table_sorted = sorted(table_display, reverse=True)\n",
    "    for entry in table_sorted:\n",
    "        print(entry[1], ':', entry[0])\n",
    "\n",
    "# Display frequency tables for the required columns\n",
    "print(\"Frequency Table for Apple App Store (prime_genre):\")\n",
    "display_table(free_apps_apple, 11)  # 'prime_genre' is in the 12th column for Apple dataset\n",
    "print(\"\\nFrequency Table for Google Play Store (Genres):\")\n",
    "display_table(free_apps_google, 9)  # 'Genres' is in the 10th column for Google dataset\n",
    "print(\"\\nFrequency Table for Google Play Store (Category):\")\n",
    "display_table(free_apps_google, 1)  # 'Category' is in the 2nd column for Google dataset\n"
   ]
  },
  {
   "cell_type": "markdown",
   "metadata": {},
   "source": [
    " Based on the frequency tables, the App Store is heavily skewed towards entertainment apps, predominantly games. In contrast, Google Play shows a more balanced distribution between practical and entertainment apps, with a notable presence in the 'Family' and 'Tools' categories. A strategic approach might be to develop a family-friendly educational game, targeting both markets. However, it's important to note that a high number of apps in a given category doesn't necessarily equate to high user engagement or profitability. Further analysis on metrics like user reviews and download counts is advised for a more comprehensive strategy.\n",
    "    "
   ]
  },
  {
   "cell_type": "code",
   "execution_count": 19,
   "metadata": {},
   "outputs": [
    {
     "data": {
      "text/plain": [
       "[('Social Networking', 71548.34905660378),\n",
       " ('Photo & Video', 28441.54375),\n",
       " ('Games', 22788.6696905016),\n",
       " ('Entertainment', 14029.830708661417),\n",
       " ('Education', 7003.983050847458)]"
      ]
     },
     "execution_count": 19,
     "metadata": {},
     "output_type": "execute_result"
    }
   ],
   "source": [
    "# Generate frequency table for the 'prime_genre' column to get unique app genres in Apple App Store\n",
    "unique_genres_apple = [genre for genre, _ in freq_table(free_apps_apple, 11)]\n",
    "\n",
    "# Initialize an empty dictionary to store average user ratings for each genre\n",
    "avg_user_ratings_apple = {}\n",
    "\n",
    "# Loop over unique genres in Apple App Store\n",
    "for genre in unique_genres_apple:\n",
    "    total = 0  # Store the sum of user ratings for each genre\n",
    "    len_genre = 0  # Store the number of apps specific to each genre\n",
    "    \n",
    "    # Loop over the App Store dataset\n",
    "    for app in free_apps_apple:\n",
    "        genre_app = app[11]  # App genre\n",
    "        \n",
    "        # Check if the app's genre matches the current genre in the loop\n",
    "        if genre_app == genre:\n",
    "            user_ratings = float(app[5])  # Number of user ratings\n",
    "            total += user_ratings  # Add up the number of user ratings\n",
    "            len_genre += 1  # Increment the number of apps for this genre\n",
    "    \n",
    "    # Compute the average number of user ratings for the genre\n",
    "    avg_user_ratings = total / len_genre if len_genre else 0\n",
    "    avg_user_ratings_apple[genre] = avg_user_ratings\n",
    "\n",
    "# Sort the genres by average number of user ratings in descending order\n",
    "sorted_avg_user_ratings_apple = sorted(avg_user_ratings_apple.items(), key=lambda x: x[1], reverse=True)\n",
    "\n",
    "sorted_avg_user_ratings_apple\n"
   ]
  },
  {
   "cell_type": "markdown",
   "metadata": {},
   "source": [
    "Based on the data, Social Networking and Photo & Video apps get the most attention in the Apple App Store, judging by the average user ratings. Games are popular too, but they don't engage users as much as the top two. Even though these genres are getting high ratings, it doesn't automatically mean they're the most profitable. So, if I were to develop an app for the Apple App Store, I'd consider diving into the Social Networking or Photo & Video space, but I'd also dig deeper into other metrics like in-app purchases and user retention to get the full picture."
   ]
  },
  {
   "cell_type": "code",
   "execution_count": 27,
   "metadata": {},
   "outputs": [
    {
     "data": {
      "text/plain": [
       "[('GAME', 15588015.603248259),\n",
       " ('TOOLS', 10801391.298666667),\n",
       " ('FAMILY', 3695641.8198090694),\n",
       " ('BUSINESS', 1712290.1474201474),\n",
       " ('LIFESTYLE', 1437816.2687861272)]"
      ]
     },
     "execution_count": 27,
     "metadata": {},
     "output_type": "execute_result"
    }
   ],
   "source": [
    "# Generate frequency table for the 'Category' column to get unique app genres in Google Play Store\n",
    "unique_categories_google = [category for category, _ in freq_table(free_apps_google, 1)]\n",
    "\n",
    "# Initialize an empty dictionary to store average number of installs for each category\n",
    "avg_installs_google = {}\n",
    "\n",
    "# Loop over unique categories in Google Play Store\n",
    "for category in unique_categories_google:\n",
    "    total = 0  # Store the sum of installs for each category\n",
    "    len_category = 0  # Store the number of apps specific to each category\n",
    "    \n",
    "    # Loop over the Google Play Store dataset\n",
    "    for app in free_apps_google:\n",
    "        category_app = app[1]  # App category\n",
    "        \n",
    "        # Check if the app's category matches the current category in the loop\n",
    "        if category_app == category:\n",
    "            # Remove any '+' or ',' character, and then convert the string to a float\n",
    "            installs = float(app[5].replace('+', '').replace(',', ''))\n",
    "            total += installs  # Add up the number of installs\n",
    "            len_category += 1  # Increment the number of apps for this category\n",
    "    \n",
    "    # Compute the average number of installs for the category\n",
    "    avg_installs = total / len_category if len_category else 0\n",
    "    avg_installs_google[category] = avg_installs\n",
    "\n",
    "# Sort the categories by average number of installs in descending order\n",
    "sorted_avg_installs_google = sorted(avg_installs_google.items(), key=lambda x: x[1], reverse=True)\n",
    "\n",
    "sorted_avg_installs_google\n"
   ]
  },
  {
   "cell_type": "markdown",
   "metadata": {},
   "source": [
    "Considering these numbers alongside the earlier analysis of the Apple App Store, developing a game app could potentially be profitable on both platforms. Notably, Tools and Family categories are also prominent on Google Play, aligning with earlier observations. Therefore, creating an app within the Game or Tools categories, or potentially a family-friendly game, could be a strategic move. However, the high number of installs doesn't automatically signify profitability, so a deeper analysis on other metrics is advisable for a complete strategy."
   ]
  },
  {
   "cell_type": "code",
   "execution_count": null,
   "metadata": {},
   "outputs": [],
   "source": []
  }
 ],
 "metadata": {
  "kernelspec": {
   "display_name": "Python 3 (ipykernel)",
   "language": "python",
   "name": "python3"
  },
  "language_info": {
   "codemirror_mode": {
    "name": "ipython",
    "version": 3
   },
   "file_extension": ".py",
   "mimetype": "text/x-python",
   "name": "python",
   "nbconvert_exporter": "python",
   "pygments_lexer": "ipython3",
   "version": "3.11.2"
  }
 },
 "nbformat": 4,
 "nbformat_minor": 4
}
