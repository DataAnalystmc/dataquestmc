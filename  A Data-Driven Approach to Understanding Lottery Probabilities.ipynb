{
 "cells": [
  {
   "cell_type": "code",
   "execution_count": 1,
   "id": "11d92257-f706-4788-8d52-e500a76e346c",
   "metadata": {},
   "outputs": [
    {
     "data": {
      "text/plain": [
       "(120, 10)"
      ]
     },
     "execution_count": 1,
     "metadata": {},
     "output_type": "execute_result"
    }
   ],
   "source": [
    "# Importing the math library for the factorial function\n",
    "import math\n",
    "\n",
    "# Function to calculate factorial of a number\n",
    "def factorial(n):\n",
    "    return math.factorial(n)\n",
    "\n",
    "# Function to calculate combinations (n choose k)\n",
    "def combinations(n, k):\n",
    "    return factorial(n) // (factorial(k) * factorial(n - k))\n",
    "\n",
    "# Test the functions\n",
    "test_factorial = factorial(5)  # Should return 120\n",
    "test_combinations = combinations(5, 2)  # Should return 10\n",
    "\n",
    "test_factorial, test_combinations\n"
   ]
  },
  {
   "cell_type": "code",
   "execution_count": 2,
   "id": "37ba1b55-1670-40f7-833b-62837a1313a2",
   "metadata": {},
   "outputs": [
    {
     "name": "stdout",
     "output_type": "stream",
     "text": [
      "Your ticket [13, 22, 24, 27, 42, 44] has a 0.0000072% chance of winning the big prize.\n",
      "Your ticket [1, 2, 3, 4, 5, 6] has a 0.0000072% chance of winning the big prize.\n"
     ]
    }
   ],
   "source": [
    "# Function to calculate the probability of winning the big prize with one ticket\n",
    "def one_ticket_probability(ticket_numbers):\n",
    "    # Total number of combinations\n",
    "    total_combinations = combinations(49, 6)\n",
    "    \n",
    "    # Probability of winning with one ticket\n",
    "    probability_one_ticket = 1 / total_combinations\n",
    "    \n",
    "    # Convert probability to percentage\n",
    "    probability_percentage = probability_one_ticket * 100\n",
    "    \n",
    "    print(f\"Your ticket {ticket_numbers} has a {probability_percentage:.7f}% chance of winning the big prize.\")\n",
    "\n",
    "# Test the function with a few different tickets\n",
    "one_ticket_probability([13, 22, 24, 27, 42, 44])\n",
    "one_ticket_probability([1, 2, 3, 4, 5, 6])\n"
   ]
  },
  {
   "cell_type": "code",
   "execution_count": 11,
   "id": "e2f8b1dc-fdb1-493a-87b8-bb41231c5b66",
   "metadata": {},
   "outputs": [
    {
     "name": "stdout",
     "output_type": "stream",
     "text": [
      "Number of rows: 3665\n",
      "Number of columns: 11\n",
      "First three rows:\n",
      "   PRODUCT  DRAW NUMBER  SEQUENCE NUMBER  DRAW DATE  NUMBER DRAWN 1  \\\n",
      "0      649            1                0  6/12/1982               3   \n",
      "1      649            2                0  6/19/1982               8   \n",
      "2      649            3                0  6/26/1982               1   \n",
      "\n",
      "   NUMBER DRAWN 2  NUMBER DRAWN 3  NUMBER DRAWN 4  NUMBER DRAWN 5  \\\n",
      "0              11              12              14              41   \n",
      "1              33              36              37              39   \n",
      "2               6              23              24              27   \n",
      "\n",
      "   NUMBER DRAWN 6  BONUS NUMBER  \n",
      "0              43            13  \n",
      "1              41             9  \n",
      "2              39            34  \n",
      "Last three rows:\n",
      "      PRODUCT  DRAW NUMBER  SEQUENCE NUMBER  DRAW DATE  NUMBER DRAWN 1  \\\n",
      "3662      649         3589                0  6/13/2018               6   \n",
      "3663      649         3590                0  6/16/2018               2   \n",
      "3664      649         3591                0  6/20/2018              14   \n",
      "\n",
      "      NUMBER DRAWN 2  NUMBER DRAWN 3  NUMBER DRAWN 4  NUMBER DRAWN 5  \\\n",
      "3662              22              24              31              32   \n",
      "3663              15              21              31              38   \n",
      "3664              24              31              35              37   \n",
      "\n",
      "      NUMBER DRAWN 6  BONUS NUMBER  \n",
      "3662              34            16  \n",
      "3663              49             8  \n",
      "3664              48            17  \n"
     ]
    }
   ],
   "source": [
    "\n",
    "import pandas as pd\n",
    "\n",
    "# Load the 649.csv file into a pandas DataFrame\n",
    "lottery_data = pd.read_csv('archive.zip') \n",
    "# Print the number of rows and columns\n",
    "num_rows, num_columns = lottery_data.shape\n",
    "print(f\"Number of rows: {num_rows}\")\n",
    "print(f\"Number of columns: {num_columns}\")\n",
    "\n",
    "# Print the first three rows\n",
    "print(\"First three rows:\")\n",
    "print(lottery_data.head(3))\n",
    "\n",
    "# Print the last three rows\n",
    "print(\"Last three rows:\")\n",
    "print(lottery_data.tail(3))\n"
   ]
  },
  {
   "cell_type": "code",
   "execution_count": 12,
   "id": "70fc7a8c-bee7-43d6-8278-6f27d251f375",
   "metadata": {},
   "outputs": [
    {
     "name": "stdout",
     "output_type": "stream",
     "text": [
      "Your combination [3, 41, 11, 12, 43, 14] has occurred 1 times in the past.\n",
      "You have a 0.0000072% chance of winning the big prize with this combination.\n",
      "Your combination [1, 2, 3, 4, 5, 6] has occurred 0 times in the past.\n",
      "You have a 0.0000072% chance of winning the big prize with this combination.\n"
     ]
    }
   ],
   "source": [
    "# Function to extract the winning numbers from a row of the DataFrame\n",
    "def extract_numbers(row):\n",
    "    return set(row[['NUMBER DRAWN 1', 'NUMBER DRAWN 2', 'NUMBER DRAWN 3', 'NUMBER DRAWN 4', 'NUMBER DRAWN 5', 'NUMBER DRAWN 6']])\n",
    "\n",
    "# Using DataFrame.apply() to extract all winning numbers\n",
    "winning_numbers = lottery_data.apply(extract_numbers, axis=1)\n",
    "\n",
    "# Function to check historical occurrences of a number combination\n",
    "def check_historical_occurrence(user_numbers, winning_numbers):\n",
    "    user_numbers_set = set(user_numbers)\n",
    "    check_occurrence = winning_numbers == user_numbers_set\n",
    "    num_occurrences = check_occurrence.sum()\n",
    "    \n",
    "    # Probability calculation for winning the big prize with this combination\n",
    "    total_combinations = combinations(49, 6)\n",
    "    probability_one_ticket = 1 / total_combinations\n",
    "    probability_percentage = probability_one_ticket * 100\n",
    "    \n",
    "    print(f\"Your combination {user_numbers} has occurred {num_occurrences} times in the past.\")\n",
    "    print(f\"You have a {probability_percentage:.7f}% chance of winning the big prize with this combination.\")\n",
    "\n",
    "# Test the function with a few inputs\n",
    "check_historical_occurrence([3, 41, 11, 12, 43, 14], winning_numbers)\n",
    "check_historical_occurrence([1, 2, 3, 4, 5, 6], winning_numbers)\n"
   ]
  },
  {
   "cell_type": "code",
   "execution_count": 13,
   "id": "f6cc3f21-e881-4cda-962b-492546be270b",
   "metadata": {},
   "outputs": [
    {
     "name": "stdout",
     "output_type": "stream",
     "text": [
      "If you play 1 tickets, you have a 0.0000072% chance of winning the big prize.\n",
      "If you play 10 tickets, you have a 0.0000715% chance of winning the big prize.\n",
      "If you play 100 tickets, you have a 0.0007151% chance of winning the big prize.\n",
      "If you play 10000 tickets, you have a 0.0715112% chance of winning the big prize.\n",
      "If you play 1000000 tickets, you have a 7.1511238% chance of winning the big prize.\n",
      "If you play 6991908 tickets, you have a 50.0000000% chance of winning the big prize.\n",
      "If you play 13983816 tickets, you have a 100.0000000% chance of winning the big prize.\n"
     ]
    }
   ],
   "source": [
    "# Re-importing the math library for the factorial function (due to the code execution state reset)\n",
    "import math\n",
    "\n",
    "# Function to calculate factorial of a number\n",
    "def factorial(n):\n",
    "    return math.factorial(n)\n",
    "\n",
    "# Function to calculate combinations (n choose k)\n",
    "def combinations(n, k):\n",
    "    return factorial(n) // (factorial(k) * factorial(n - k))\n",
    "\n",
    "# Function to calculate the probability of winning with multiple tickets\n",
    "def multi_ticket_probability(num_tickets):\n",
    "    # Total number of combinations\n",
    "    total_combinations = combinations(49, 6)\n",
    "    \n",
    "    # Probability of winning with the given number of tickets\n",
    "    probability_multi_tickets = num_tickets / total_combinations\n",
    "    \n",
    "    # Convert probability to percentage\n",
    "    probability_percentage = probability_multi_tickets * 100\n",
    "    \n",
    "    print(f\"If you play {num_tickets} tickets, you have a {probability_percentage:.7f}% chance of winning the big prize.\")\n",
    "\n",
    "# Test the function with various numbers of tickets\n",
    "test_inputs = [1, 10, 100, 10000, 1000000, 6991908, 13983816]\n",
    "for num in test_inputs:\n",
    "    multi_ticket_probability(num)\n"
   ]
  },
  {
   "cell_type": "code",
   "execution_count": 14,
   "id": "3dea1aa5-c329-46a3-b563-36f1b4ec1089",
   "metadata": {},
   "outputs": [
    {
     "name": "stdout",
     "output_type": "stream",
     "text": [
      "Your chances of having 2 winning numbers are approximately 13.2378029%.\n",
      "Your chances of having 3 winning numbers are approximately 1.7650404%.\n",
      "Your chances of having 4 winning numbers are approximately 0.0968620%.\n",
      "Your chances of having 5 winning numbers are approximately 0.0018450%.\n"
     ]
    }
   ],
   "source": [
    "# Function to calculate probability of having less than 6 winning numbers\n",
    "def probability_less_6(n):\n",
    "    # Number of ways to choose the correct numbers\n",
    "    successful_outcomes = combinations(6, n)\n",
    "    \n",
    "    # Number of ways to choose the remaining incorrect numbers\n",
    "    remaining_numbers = combinations(43, 6 - n)\n",
    "    \n",
    "    # Total successful outcomes for n winning numbers\n",
    "    total_successful_outcomes = successful_outcomes * remaining_numbers\n",
    "    \n",
    "    # Total possible outcomes (combinations for a 6/49 lottery)\n",
    "    total_combinations = combinations(49, 6)\n",
    "    \n",
    "    # Probability calculation\n",
    "    probability = total_successful_outcomes / total_combinations\n",
    "    \n",
    "    # Convert probability to percentage\n",
    "    probability_percentage = probability * 100\n",
    "    \n",
    "    print(f\"Your chances of having {n} winning numbers are approximately {probability_percentage:.7f}%.\")\n",
    "\n",
    "# Test the function on all possible inputs: 2, 3, 4, 5\n",
    "for i in range(2, 6):\n",
    "    probability_less_6(i)\n"
   ]
  },
  {
   "cell_type": "markdown",
   "id": "69709247-3f34-4c95-ba63-a1ac8a9d6db3",
   "metadata": {},
   "source": [
    "## Project Summary\r\n",
    "\r\n",
    "Loaded lottery data and built four key functions. `one_ticket_probability()` calculates jackpot odds for one ticket. `check_historical_occurrence()` shows if your numbers ever won before. `multi_ticket_probability()` assesses how buying more tickets changes your chances. `probability_less_6()` gives the odds for winning smaller prizes by matching 2-5 numbers. Together, these functions provide a comprehensive view of lottery odds, from jackpot to smaller wins.\r\n"
   ]
  },
  {
   "cell_type": "code",
   "execution_count": null,
   "id": "8fb835b8-7cf5-48ae-aea2-be67cff3bcb1",
   "metadata": {},
   "outputs": [],
   "source": []
  }
 ],
 "metadata": {
  "kernelspec": {
   "display_name": "Python 3 (ipykernel)",
   "language": "python",
   "name": "python3"
  },
  "language_info": {
   "codemirror_mode": {
    "name": "ipython",
    "version": 3
   },
   "file_extension": ".py",
   "mimetype": "text/x-python",
   "name": "python",
   "nbconvert_exporter": "python",
   "pygments_lexer": "ipython3",
   "version": "3.11.2"
  }
 },
 "nbformat": 4,
 "nbformat_minor": 5
}
